{
 "cells": [
  {
   "cell_type": "markdown",
   "metadata": {},
   "source": [
    "Let's try to perform a linear regression on time series data by exploiting *PyOphidia*, *numpy* and *matplotlib* for the visualization. The goal is to extract the trend of the time series.\n",
    "\n",
    "1- First of all import the PyOphidia modules and connect to the server-side"
   ]
  },
  {
   "cell_type": "code",
   "execution_count": null,
   "metadata": {},
   "outputs": [],
   "source": [
    "from PyOphidia import cube\n",
    "cube.Cube.setclient(read_env=True)"
   ]
  },
  {
   "cell_type": "markdown",
   "metadata": {},
   "source": [
    "2- Load the *tasmin* variable from the input dataset located at */ecas-training/tasmin_day_CMCC-CESM_rcp85_r1i1p1_20960101-21001231.nc*. Make sure to import the data so that it is time-array oriented."
   ]
  },
  {
   "cell_type": "code",
   "execution_count": null,
   "metadata": {
    "collapsed": true
   },
   "outputs": [],
   "source": [
    "mintemp = cube.Cube.importnc(\n",
    "    src_path='/ecas-training/tasmin_day_CMCC-CESM_rcp85_r1i1p1_20960101-21001231.nc',\n",
    "    measure='tasmin',\n",
    "    import_metadata='yes',\n",
    "    imp_dim='time',\n",
    "    imp_concept_level='d', vocabulary='CF',hierarchy='oph_base|oph_base|oph_time',\n",
    "    ncores=2,\n",
    "    description='Min Temps')"
   ]
  },
  {
   "cell_type": "markdown",
   "metadata": {},
   "source": [
    "3- Extract a single time series from the imported cube *(just consider the first index for latitute and longitude)* and try to print its content"
   ]
  },
  {
   "cell_type": "code",
   "execution_count": null,
   "metadata": {},
   "outputs": [],
   "source": [
    "singleTS = mintemp.subset(\n",
    "    subset_dims=\"lat|lon\",\n",
    "    subset_filter=\"1|1\",\n",
    "    subset_type='index',\n",
    "    ncores=2)\n",
    "\n",
    "singleTS.explore()"
   ]
  },
  {
   "cell_type": "markdown",
   "metadata": {},
   "source": [
    "4- Run the Ophidia primitive to perform the linear regression over the time series.\n",
    "You can use the *apply* operator with the *oph_gsl_fit_linear* primitive.\n",
    "\n",
    "**NOTE:** the resulting cube will just provide two values, the intercept and the slope."
   ]
  },
  {
   "cell_type": "code",
   "execution_count": null,
   "metadata": {
    "collapsed": true
   },
   "outputs": [],
   "source": [
    "trendCube = singleTS.apply(\n",
    "    query=\"oph_gsl_fit_linear_coeff('OPH_FLOAT','OPH_FLOAT',measure, dimension,'110000')\",\n",
    "    check_type='no')"
   ]
  },
  {
   "cell_type": "markdown",
   "metadata": {},
   "source": [
    "5- Let's plot the data with respect to the time dimensions (indexes), as well as the linear regression line in a scatter plot. Note that:\n",
    "\n",
    "```python\n",
    "trendCoeff = trendCube.export_array(show_time='no')\n",
    "intercept = trendCoeff['measure'][0]['values'][0][0]\n",
    "slope = trendCoeff['measure'][0]['values'][0][1]\n",
    "```"
   ]
  },
  {
   "cell_type": "code",
   "execution_count": null,
   "metadata": {},
   "outputs": [],
   "source": [
    "data = singleTS.export_array(show_time='no')\n",
    "trendCoeff = trendCube.export_array(show_time='no')\n",
    "\n",
    "import matplotlib.pyplot as plt\n",
    "import matplotlib.lines as mlines\n",
    "import matplotlib.transforms as mtransforms\n",
    "import numpy as np\n",
    "\n",
    "y = data['measure'][0]['values'][0][:]\n",
    "x = data['dimension'][2]['values'][:]\n",
    "fig, ax = plt.subplots(figsize=(11, 3), dpi=100)\n",
    "ax.scatter(x, y)\n",
    "\n",
    "\n",
    "intercept = trendCoeff['measure'][0]['values'][0][0]\n",
    "slope = trendCoeff['measure'][0]['values'][0][1]\n",
    "\n",
    "line = intercept + slope * np.array(x)\n",
    "ax.plot(x,line, color='red')\n",
    "\n",
    "plt.ylabel(data['measure'][0]['name'] + \" (degK)\")\n",
    "plt.xlabel(\"Days since 2096/01/01\")\n",
    "plt.title('Minimum temperature')\n",
    "plt.show()\n"
   ]
  },
  {
   "cell_type": "markdown",
   "metadata": {
    "collapsed": true
   },
   "source": [
    "Finally clear your workspace from the datacubes produced during the experiments."
   ]
  },
  {
   "cell_type": "code",
   "execution_count": null,
   "metadata": {
    "collapsed": true
   },
   "outputs": [],
   "source": [
    "cube.Cube.client.submit(\"oph_delete cube=[container=tasmin_day_CMCC-CESM_rcp85_r1i1p1_20960101-21001231.nc]\")\n",
    "cube.Cube.deletecontainer(container='tasmin_day_CMCC-CESM_rcp85_r1i1p1_20960101-21001231.nc')"
   ]
  }
 ],
 "metadata": {
  "kernelspec": {
   "display_name": "Python 3",
   "language": "python",
   "name": "python3"
  },
  "language_info": {
   "codemirror_mode": {
    "name": "ipython",
    "version": 3
   },
   "file_extension": ".py",
   "mimetype": "text/x-python",
   "name": "python",
   "nbconvert_exporter": "python",
   "pygments_lexer": "ipython3",
   "version": "3.4.5"
  }
 },
 "nbformat": 4,
 "nbformat_minor": 2
}
