{
 "cells": [
  {
   "cell_type": "markdown",
   "metadata": {},
   "source": [
    "<img src=\"ecas_logo.png\" alt=\"ECAS Logo\" width=\"500\">"
   ]
  },
  {
   "cell_type": "markdown",
   "metadata": {},
   "source": [
    "# Training with ECAS: computation of a climate indicator from a shared data collection\n",
    "\n",
    "This notebook explains how to execute a sample climate indicator exploiting the features provided by the **ECAS** environment (in particular, those provided by the *Ophidia Framework*) and accessing input datafiles shared on the **OneData** platform.\n",
    "\n",
    "The *ENES Climate Analytics Service* (ECAS) is one of the *EOSC-Hub Thematic Services*. It builds on top of the Ophidia big data analytics framework with additional components and services from the INDIGO-DataCloud software stack, EUDAT and EGI e-infrastructures.\n",
    "\n",
    "*OneData* is a global data management system, providing easy access to distributed storage resources, supporting wide range of use cases from personal data management to data-intensive scientific computations.\n",
    "\n",
    "The goal of this training is to implement a real indicator from the *extreme climate indices* set directly on a shared and geographically distributed data collection exposed in the *Federated Data Archive* in a transparent way, without unnecessary data movement.\n",
    "\n",
    "This set comprises 27 indices based on daily temperatures or daily precipitation amount, defined with the purpose to analyze extreme events. In this training we are going to compute the *Summer Days index*: starting from the daily maximum temperature (2096-2100), the Summer Days index is the annual count of days where TX (daily maximum temperature) > 25°C.\n",
    "The full list of indices is provided here: [http://etccdi.pacificclimate.org/list_27_indices.shtml](http://etccdi.pacificclimate.org/list_27_indices.shtml).\n",
    "\n",
    "The training session will be completely carried out in this Jupyter Notebook using python code and the set of modules and libraries available in the ECASlab; in particular, the calculation of the climate index will exploit a global data repository provided by the modelling groups and backed by computing centers and storage providers worldwide.\n",
    "\n",
    "Before starting the actual implementation of the indicator, let's understand the main features of Onedata, how data is organized and what are the key concepts behind its implementation.\n",
    "For more details, please visit the official website: https://onedata.org/#/home"
   ]
  },
  {
   "cell_type": "markdown",
   "metadata": {},
   "source": [
    "## 1. Getting started with Onedata\n",
    "\n",
    "**Onedata** is a global data access solution for eScience. It allows users to:\n",
    "- access data in a dropbox-like fashion regardless of its location\n",
    "- perform heavy computations on huge datasets\n",
    "- publish and share results with public or closed communities\n",
    "\n",
    "The platform consists of 3 main components:\n",
    "- *Spaces*: distributed virtual volumes, where users can organize their data\n",
    "- *Providers*: entities who support user spaces with actual storage resources exposed via Oneprovider services\n",
    "- *Zones*: federations of providers, which enable creation of closed or interconnected communities, managed by Onezone services.\n",
    "\n",
    "The following picture shows a view of a geographically distributed OneData space supported by some providers and used in ECASLab.\n",
    "\n",
    "<img src=\"Federated_Data_Archive.png\" alt=\"OneZone interface\" width=\"800\"> "
   ]
  },
  {
   "cell_type": "markdown",
   "metadata": {},
   "source": [
    "## 2. OneData integration in ECAS\n",
    "\n",
    "In the context of ECAS, an existing (read-only) data collection, provided for instance by a modelling group, is exposed via dedicated OneData services and made available in the ECASLab environment.\n",
    "Specifically, each user can easily access and process data, which are made available in its own workspace.\n",
    "\n",
    "More in details, when you log in to JupyterHub, the following data directories are available in you workspace:\n",
    "\n",
    "- **/data:** input data required for the workflows/notebooks locally available in the ECAS environment\n",
    "- **/onedata:** Federated Data Archive exposed via OneData    \n",
    "\n",
    "Under the **/onedata/repository** directory, you can find the shared repository, named **ECAS_space**, containing all data that you can use to run your notebooks. \n",
    "The *ECAS_space* is supported by multiple geographically distributed storage providers, but Onedata unifies access to these storage resources automatically. "
   ]
  },
  {
   "cell_type": "markdown",
   "metadata": {},
   "source": [
    "## 3. Calculate the Summer Days index\n",
    "\n",
    "Now that you have an understanding of the data organizaton, you're ready to calculate the Summer Days index using the NetCDF files provided in the *ECAS_space* repository."
   ]
  },
  {
   "cell_type": "markdown",
   "metadata": {},
   "source": [
    "First of all, connect to the remote ECAS instance"
   ]
  },
  {
   "cell_type": "code",
   "execution_count": null,
   "metadata": {},
   "outputs": [],
   "source": [
    "from PyOphidia import cube\n",
    "cube.Cube.setclient(read_env=True)"
   ]
  },
  {
   "cell_type": "markdown",
   "metadata": {},
   "source": [
    "List the files available into the shared data collection"
   ]
  },
  {
   "cell_type": "code",
   "execution_count": null,
   "metadata": {},
   "outputs": [],
   "source": [
    "cube.Cube.fs(command='ls', dpath='/onedata/repository/ECAS_space/*.nc', display=True)"
   ]
  },
  {
   "cell_type": "markdown",
   "metadata": {},
   "source": [
    "Import the *tasmax* source file (minimum temperature °K) from the repository into an Ophidia datacube"
   ]
  },
  {
   "cell_type": "code",
   "execution_count": null,
   "metadata": {},
   "outputs": [],
   "source": [
    "maxtemp = cube.Cube(src_path='/onedata/repository/ECAS_space/tasmax_day_CMCC-CESM_rcp85_r1i1p1_20960101-21001231.nc',\n",
    "    measure='tasmax',\n",
    "    import_metadata='yes',\n",
    "    imp_dim='time',\n",
    "    imp_concept_level='d', vocabulary='CF',hierarchy='oph_base|oph_base|oph_time',\n",
    "    ncores=4,\n",
    "    description='Max Temps'\n",
    "    )"
   ]
  },
  {
   "cell_type": "markdown",
   "metadata": {},
   "source": [
    "Identify the summer days"
   ]
  },
  {
   "cell_type": "code",
   "execution_count": null,
   "metadata": {
    "collapsed": true
   },
   "outputs": [],
   "source": [
    "summerdays = maxtemp.apply(\n",
    "    query=\"oph_predicate('oph_float','oph_int',measure,'x-298.15','>0','1','0')\"\n",
    ")"
   ]
  },
  {
   "cell_type": "markdown",
   "metadata": {},
   "source": [
    "Count the number of summer days"
   ]
  },
  {
   "cell_type": "code",
   "execution_count": null,
   "metadata": {
    "collapsed": true
   },
   "outputs": [],
   "source": [
    "count = summerdays.reduce2(\n",
    "    operation='sum',\n",
    "    dim='time',\n",
    "    concept_level='y',\n",
    ")"
   ]
  },
  {
   "cell_type": "markdown",
   "metadata": {},
   "source": [
    "Finally plot the indicator"
   ]
  },
  {
   "cell_type": "code",
   "execution_count": null,
   "metadata": {
    "collapsed": true
   },
   "outputs": [],
   "source": [
    "firstyear = count.subset(subset_filter=1, subset_dims='time')"
   ]
  },
  {
   "cell_type": "code",
   "execution_count": null,
   "metadata": {},
   "outputs": [],
   "source": [
    "data = firstyear.export_array(show_time='yes')\n",
    "import matplotlib.pyplot as plt\n",
    "from mpl_toolkits.basemap import Basemap, cm\n",
    "import numpy as np\n",
    "\n",
    "lat = data['dimension'][0]['values'][:]\n",
    "lon = data['dimension'][1]['values'][:]\n",
    "var = data['measure'][0]['values'][:]\n",
    "var = np.reshape(var, (len(lat), len(lon)))\n",
    "\n",
    "fig = plt.figure(figsize=(15, 15), dpi=100)\n",
    "ax  = fig.add_axes([0.1,0.1,0.8,0.8])\n",
    "\n",
    "map = Basemap(projection='cyl',llcrnrlat= -90,urcrnrlat= 90, llcrnrlon=0,urcrnrlon=360, resolution='c')\n",
    "\n",
    "map.drawcoastlines()\n",
    "map.drawparallels(np.arange( -90, 90,30),labels=[1,0,0,0])\n",
    "map.drawmeridians(np.arange(-180,180,30),labels=[0,0,0,1])\n",
    "\n",
    "x, y = map(*np.meshgrid(lon,lat))\n",
    "\n",
    "clevs = np.arange(0,371,10)\n",
    "\n",
    "cnplot = map.contourf(x,y,var,clevs,cmap=plt.cm.jet)\n",
    "cbar = map.colorbar(cnplot,location='right')\n",
    "\n",
    "plt.title('Summer Days (year 2096)')\n",
    "plt.show()"
   ]
  },
  {
   "cell_type": "markdown",
   "metadata": {},
   "source": [
    "## 4. Final remarks\n",
    "\n",
    "Congrats! You've completed this training regarding some basics operations that can be performed within the ECASlab and you should now be able to:\n",
    "\n",
    "* use the PyOphidia module to access a OneData repository;\n",
    "* perform the computation of climate index over a shared data collection.\n",
    "\n",
    "If you want to clear your user space before running other notebooks, run the following commands:"
   ]
  },
  {
   "cell_type": "code",
   "execution_count": null,
   "metadata": {
    "collapsed": true
   },
   "outputs": [],
   "source": [
    "cube.Cube.client.submit(\"oph_delete cube=[container=tasmax_day_CMCC-CESM_rcp85_r1i1p1_20960101-21001231.nc]\")\n",
    "cube.Cube.deletecontainer(container='tasmax_day_CMCC-CESM_rcp85_r1i1p1_20960101-21001231.nc')"
   ]
  },
  {
   "cell_type": "markdown",
   "metadata": {
    "collapsed": true
   },
   "source": [
    "## References\n",
    "\n",
    "1. [OneData website](https://onedata.org/#/home)\n",
    "2. [EOSC-Hub project website](https://www.eosc-hub.eu)\n",
    "3. [PyOphidia library](https://github.com/OphidiaBigData/PyOphidia)"
   ]
  }
 ],
 "metadata": {
  "kernelspec": {
   "display_name": "Python 3",
   "language": "python",
   "name": "python3"
  },
  "language_info": {
   "codemirror_mode": {
    "name": "ipython",
    "version": 3
   },
   "file_extension": ".py",
   "mimetype": "text/x-python",
   "name": "python",
   "nbconvert_exporter": "python",
   "pygments_lexer": "ipython3",
   "version": "3.4.5"
  }
 },
 "nbformat": 4,
 "nbformat_minor": 2
}
