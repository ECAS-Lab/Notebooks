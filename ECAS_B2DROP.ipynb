{
 "cells": [
  {
   "cell_type": "markdown",
   "metadata": {},
   "source": [
    "# Demo: Export datacubes and files to EUDAT B2DROP"
   ]
  },
  {
   "cell_type": "markdown",
   "metadata": {},
   "source": [
    "In this demo we will run some data analytics, create some plots and export the dataset and plot produced during these stages on our B2DROP folder.\n",
    "\n",
    "**Pre-requisite 1:** a B2DROP account is required. You can login to B2DROP through B2ACCESS.\n",
    "\n",
    "**Pre-requisite 2:** a NetCDF file in your B2DROP space (base folder).\n",
    "\n",
    "**Pre-requisite 3:** a specific *Application Password* to be used for the file sharing through Ophidia, in order to avoid the sharing of the actual password with external applications.\n",
    "\n",
    "<img src=\"imgs/b2drop_setup.png\" alt=\"B2DROP Setup\" width=\"1000\">\n",
    "\n",
    "\n",
    "After clicking on the *Create new app password* button a new password will be create. **The credentials will be shown just once so we need to store them before clicking on the *complete* button.**"
   ]
  },
  {
   "cell_type": "markdown",
   "metadata": {},
   "source": [
    "Create a new **.netrc** file in the home directory with the credentials just generated (like in the example). This file will be used by Ophidia to authenticate to the B2DROP account and upload the files."
   ]
  },
  {
   "cell_type": "code",
   "execution_count": null,
   "metadata": {
    "collapsed": true
   },
   "outputs": [],
   "source": [
    "%%bash\n",
    "> $HOME/.netrc\n",
    "cat <<'EOF' >> $HOME/.netrc\n",
    "machine <B2DROP FQDN>\n",
    "login  <username>\n",
    "password <password>\n",
    "EOF\n",
    "chmod 0600 $HOME/.netrc"
   ]
  },
  {
   "cell_type": "markdown",
   "metadata": {},
   "source": [
    "We can now download the NetCDF file from our B2DROP space, but before let's change the current folder used by Ophidia"
   ]
  },
  {
   "cell_type": "code",
   "execution_count": null,
   "metadata": {},
   "outputs": [],
   "source": [
    "cube.Cube.fs(command='cd',\n",
    "             dpath='/home/'+cube.Cube.client.username+'/', \n",
    "             display=True)"
   ]
  },
  {
   "cell_type": "markdown",
   "metadata": {},
   "source": [
    "PyOphidia allows to download files from our B2DROP space by running the following *class method* (this is internally using the B2DROP APIs)"
   ]
  },
  {
   "cell_type": "code",
   "execution_count": null,
   "metadata": {
    "collapsed": true
   },
   "outputs": [],
   "source": [
    "cube.Cube.b2drop(src_path='tos.nc',action='get',dst_path='tos-b2drop.nc')"
   ]
  },
  {
   "cell_type": "markdown",
   "metadata": {},
   "source": [
    "A new file named tos.nc will be available under the base folder /"
   ]
  },
  {
   "cell_type": "code",
   "execution_count": null,
   "metadata": {},
   "outputs": [],
   "source": [
    "%%bash\n",
    "ls -l $HOME/*.nc"
   ]
  },
  {
   "cell_type": "markdown",
   "metadata": {},
   "source": [
    "Let's now import the dataset downloaded from B2DROP and run some basic operations."
   ]
  },
  {
   "cell_type": "code",
   "execution_count": null,
   "metadata": {},
   "outputs": [],
   "source": [
    "from PyOphidia import cube, client\n",
    "cube.Cube.setclient(read_env=True)\n",
    "\n",
    "mycube = cube.Cube.importnc(src_path='tos-b2drop.nc', measure='tasmax', imp_dim='time', import_metadata='yes', \n",
    "                            imp_concept_level='d', ncores=2, hierarchy='oph_base|oph_base|oph_time', \n",
    "                            ioserver='ophidiaio_memory')\n",
    "\n",
    "mycube2 = mycube.reduce(operation='max',ncores=2)\n",
    "\n",
    "mycube2.info()"
   ]
  },
  {
   "cell_type": "markdown",
   "metadata": {},
   "source": [
    "Recall that the current folder is:"
   ]
  },
  {
   "cell_type": "code",
   "execution_count": null,
   "metadata": {},
   "outputs": [],
   "source": [
    "cube.Cube.fs(command='ls', display=True)"
   ]
  },
  {
   "cell_type": "markdown",
   "metadata": {},
   "source": [
    "To export into a nc file called tos.nc"
   ]
  },
  {
   "cell_type": "code",
   "execution_count": null,
   "metadata": {
    "collapsed": true
   },
   "outputs": [],
   "source": [
    "mycube2.exportnc2(output_path='./',output_name='tos-ophidia')"
   ]
  },
  {
   "cell_type": "markdown",
   "metadata": {},
   "source": [
    "A new file name *tos-ophidia.nc* will be available under the base folder */*"
   ]
  },
  {
   "cell_type": "code",
   "execution_count": null,
   "metadata": {},
   "outputs": [],
   "source": [
    "%%bash\n",
    "ls -l $HOME/*.nc"
   ]
  },
  {
   "cell_type": "markdown",
   "metadata": {},
   "source": [
    "We can reuse the PyOphidia *class method* also to upload data to the B2DROP space"
   ]
  },
  {
   "cell_type": "code",
   "execution_count": null,
   "metadata": {
    "collapsed": true
   },
   "outputs": [],
   "source": [
    "cube.Cube.b2drop(src_path='tos-ophidia.nc',action='put')"
   ]
  },
  {
   "cell_type": "markdown",
   "metadata": {},
   "source": [
    "Let's try to create a map with the datacube previously computed and store the file as *map.png*"
   ]
  },
  {
   "cell_type": "code",
   "execution_count": null,
   "metadata": {
    "collapsed": true
   },
   "outputs": [],
   "source": [
    "%matplotlib inline\n",
    "import matplotlib.pyplot as plt\n",
    "from mpl_toolkits.basemap import Basemap, cm, addcyclic, shiftgrid\n",
    "import numpy as np\n",
    "\n",
    "data = mycube2.export_array()\n",
    "lat = data['dimension'][0]['values'][:]\n",
    "lon = data['dimension'][1]['values'][:]\n",
    "var = data['measure'][0]['values'][:]\n",
    "\n",
    "fig = plt.figure(figsize=(15, 15), dpi=100)\n",
    "ax  = fig.add_axes([0.1,0.1,0.8,0.8])\n",
    "\n",
    "map = Basemap(projection='cyl',llcrnrlat=-90,urcrnrlat=90, llcrnrlon=-180,urcrnrlon=180, lon_0=0, resolution='c')\n",
    "\n",
    "map.drawcoastlines()\n",
    "map.drawparallels(np.arange( -90, 90,30),labels=[1,0,0,0])\n",
    "map.drawmeridians(np.arange(-180,180,30),labels=[0,0,0,1])\n",
    "\n",
    "var = np.reshape(var, (len(lat), len(lon)))\n",
    "var_cyclic, lon_cyclic = addcyclic(var, lon)\n",
    "var_cyclic, lon_cyclic  = shiftgrid(180., var_cyclic, lon_cyclic, start=False)\n",
    "x, y = map(*np.meshgrid(lon_cyclic,lat))\n",
    "\n",
    "levStep = (np.max(var)-np.min(var))/30\n",
    "clevs = np.arange(np.min(var),np.max(var)+levStep,levStep)\n",
    "\n",
    "cnplot = map.contourf(x,y,var_cyclic,clevs,cmap=plt.cm.jet)\n",
    "cbar = map.colorbar(cnplot,location='right')\n",
    "\n",
    "plt.title('Maximum Temperature (deg K)')\n",
    "plt.savefig('map.png',  bbox_inches='tight')\n",
    "plt.show()"
   ]
  },
  {
   "cell_type": "markdown",
   "metadata": {},
   "source": [
    "Using the PyOphidia method we can upload any type of file on B2DROP (we don't need to specify the *action* argument, since upload is the default action)"
   ]
  },
  {
   "cell_type": "code",
   "execution_count": null,
   "metadata": {
    "collapsed": true
   },
   "outputs": [],
   "source": [
    "cube.Cube.b2drop(src_path='./map.png')"
   ]
  },
  {
   "cell_type": "markdown",
   "metadata": {},
   "source": [
    "In a more integrated fashion, we can directly export a datacube into a NetCDF remotely stored on the B2DROP space."
   ]
  },
  {
   "cell_type": "code",
   "execution_count": null,
   "metadata": {
    "collapsed": true
   },
   "outputs": [],
   "source": [
    "mycube2.to_b2drop()"
   ]
  },
  {
   "cell_type": "markdown",
   "metadata": {},
   "source": [
    "To clear your workspace before running other notebooks"
   ]
  },
  {
   "cell_type": "code",
   "execution_count": null,
   "metadata": {
    "collapsed": true
   },
   "outputs": [],
   "source": [
    "cube.Cube.client.submit(\"oph_delete cube=[container=tasmax_day_CMCC-CESM_rcp85_r1i1p1_20960101-21001231.nc]\")\n",
    "cube.Cube.deletecontainer(container='tasmax_day_CMCC-CESM_rcp85_r1i1p1_20960101-21001231.nc')"
   ]
  }
 ],
 "metadata": {
  "kernelspec": {
   "display_name": "Python 3",
   "language": "python",
   "name": "python3"
  },
  "language_info": {
   "codemirror_mode": {
    "name": "ipython",
    "version": 3
   },
   "file_extension": ".py",
   "mimetype": "text/x-python",
   "name": "python",
   "nbconvert_exporter": "python",
   "pygments_lexer": "ipython3",
   "version": "3.4.5"
  }
 },
 "nbformat": 4,
 "nbformat_minor": 2
}
