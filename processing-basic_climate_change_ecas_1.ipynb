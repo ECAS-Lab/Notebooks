{
 "cells": [
  {
   "cell_type": "markdown",
   "metadata": {},
   "source": [
    "### Value/spatial pattern/time series of variable x in future scenario in model y in scenario 1, 2, 3 \n",
    "\n",
    "Author(s): Sofiane Bendoukha / Karsten Peters \n",
    "\n",
    "[![DOI](https://zenodo.org/badge/DOI/10.5281/zenodo.3397361.svg)](https://doi.org/10.5281/zenodo.3397361)\n",
    "\n",
    "#### Question 1:\n",
    "\n",
    "What is the global near surface air temperature simulated by “a particular model” under the RCP2.6 and RCP8.5 scenarios at the end of the century - and what is the difference between the two?\n"
   ]
  },
  {
   "cell_type": "markdown",
   "metadata": {},
   "source": [
    "Connect to remote ECAS instance"
   ]
  },
  {
   "cell_type": "code",
   "execution_count": null,
   "metadata": {},
   "outputs": [],
   "source": [
    "from PyOphidia import cube\n",
    "cube.Cube.setclient(read_env=True)"
   ]
  },
  {
   "cell_type": "markdown",
   "metadata": {},
   "source": [
    " 1. Load RCP2.6 and RCP8.5 into OPhidia"
   ]
  },
  {
   "cell_type": "code",
   "execution_count": null,
   "metadata": {},
   "outputs": [],
   "source": [
    "rcp26 = cube.Cube(src_path='/mnt/lustre01/work/kd0956/CMIP5/data/cmip5/output1/MOHC/HadGEM2-ES/rcp26/day/atmos/day/r1i1p1/v20120405/tas/tas_day_HadGEM2-ES_rcp26_r1i1p1_20951201-20991130.nc',\n",
    "    measure='tas',\n",
    "    import_metadata='yes',\n",
    "    imp_dim='time',\n",
    "    vocabulary='CF',hierarchy='oph_base|oph_base|oph_time', \n",
    "    ncores=4\n",
    "    )"
   ]
  },
  {
   "cell_type": "code",
   "execution_count": null,
   "metadata": {},
   "outputs": [],
   "source": [
    "#rcp26.info()"
   ]
  },
  {
   "cell_type": "code",
   "execution_count": null,
   "metadata": {},
   "outputs": [],
   "source": [
    "rcp85 = cube.Cube(src_path='/mnt/lustre01/work/kd0956/CMIP5/data/cmip5/output1/MOHC/HadGEM2-ES/rcp85/day/atmos/day/r1i1p1/v20111128/tas/tas_day_HadGEM2-ES_rcp85_r1i1p1_20951201-20991130.nc',\n",
    "    measure='tas',\n",
    "    import_metadata='yes',\n",
    "    imp_dim='time',\n",
    "    vocabulary='CF',hierarchy='oph_base|oph_base|oph_time',\n",
    "    ncores=4,\n",
    "    description='Air temperatures'\n",
    "    )"
   ]
  },
  {
   "cell_type": "code",
   "execution_count": null,
   "metadata": {},
   "outputs": [],
   "source": [
    "# rcp85.info()"
   ]
  },
  {
   "cell_type": "markdown",
   "metadata": {},
   "source": [
    "\n",
    "2- Compute time mean (rcp85, rcp26)"
   ]
  },
  {
   "cell_type": "code",
   "execution_count": null,
   "metadata": {},
   "outputs": [],
   "source": [
    "tas_rcp85 = rcp85.reduce2(\n",
    "    dim='time',\n",
    "    concept_level='y',\n",
    "    operation='avg',\n",
    "    description='Mean rcp85'\n",
    ") "
   ]
  },
  {
   "cell_type": "code",
   "execution_count": null,
   "metadata": {},
   "outputs": [],
   "source": [
    "tas_rcp26 = rcp26.reduce2(\n",
    "    dim='time',\n",
    "    concept_level='y',\n",
    "    operation='avg',\n",
    "    description='Mean rcp26'\n",
    ")"
   ]
  },
  {
   "cell_type": "code",
   "execution_count": null,
   "metadata": {},
   "outputs": [],
   "source": [
    "#tas_rcp85.info()"
   ]
  },
  {
   "cell_type": "markdown",
   "metadata": {},
   "source": [
    "3- Compute difference tas_rcp85 - tas_rcp26"
   ]
  },
  {
   "cell_type": "code",
   "execution_count": null,
   "metadata": {},
   "outputs": [],
   "source": [
    "dtas = tas_rcp85.intercube(\n",
    "    cube2=tas_rcp26.pid,\n",
    "    operation='sub',\n",
    "    ncores=4,\n",
    "    description='Differences RCP85 and RCP26')"
   ]
  },
  {
   "cell_type": "code",
   "execution_count": null,
   "metadata": {},
   "outputs": [],
   "source": [
    "#dtas.info()"
   ]
  },
  {
   "cell_type": "markdown",
   "metadata": {},
   "source": [
    "Extract first year"
   ]
  },
  {
   "cell_type": "code",
   "execution_count": null,
   "metadata": {},
   "outputs": [],
   "source": [
    "firstYearDtas = dtas.subset2(subset_filter='2099', subset_dims='time')\n",
    "data = firstYearDtas.export_array()"
   ]
  },
  {
   "cell_type": "markdown",
   "metadata": {},
   "source": [
    "Plot dtas"
   ]
  },
  {
   "cell_type": "markdown",
   "metadata": {},
   "source": [
    "Plot the global map (first year)"
   ]
  },
  {
   "cell_type": "code",
   "execution_count": null,
   "metadata": {
    "scrolled": true
   },
   "outputs": [],
   "source": [
    "import matplotlib.pyplot as plt\n",
    "import numpy as np\n",
    "\n",
    "from mpl_toolkits.basemap import Basemap, cm\n",
    "\n",
    "lat = data['dimension'][0]['values'][:]\n",
    "lon = data['dimension'][1]['values'][:]\n",
    "var = data['measure'][0]['values'][:]\n",
    "var = np.reshape(var, (len(lat), len(lon)))\n",
    "\n",
    "fig = plt.figure(figsize=(15, 15), dpi=100)\n",
    "ax  = fig.add_axes([0.1,0.1,0.8,0.8])\n",
    "\n",
    "map = Basemap(projection='cyl',llcrnrlat= -90,urcrnrlat= 90, llcrnrlon=0,urcrnrlon=360, resolution='c')\n",
    "\n",
    "map.drawcoastlines()\n",
    "map.drawparallels(np.arange( -90, 90,30),labels=[1,0,0,0])\n",
    "map.drawmeridians(np.arange(-180,180,30),labels=[0,0,0,1])\n",
    "\n",
    "x, y = map(*np.meshgrid(lon,lat))\n",
    "\n",
    "clevs = np.arange(-10,25,1)\n",
    "\n",
    "cnplot = map.contourf(x,y,var,clevs,cmap=plt.cm.jet)\n",
    "cbar = map.colorbar(cnplot,location='right')\n",
    "\n",
    "plt.title('DTAS (deg K)')\n",
    "plt.show()"
   ]
  },
  {
   "cell_type": "code",
   "execution_count": null,
   "metadata": {},
   "outputs": [],
   "source": [
    "#firstYearDtas.info()"
   ]
  },
  {
   "cell_type": "markdown",
   "metadata": {},
   "source": [
    "### Scientific description\n",
    "In CMIP5, the models were run under certain boundary conditions, i.e. the forcing scenarios. In our case here, RCP2.6 involves much less greenhouse gas forcing than RCP8.5, so we expect that the temperature in the RCP8.5 simulation is significantly higher than the one simulated by the RCP2.6 simulation. This is also what we show in the plots. In particular, the difference plot (RCP8.5 - RCP2.6) indicates that the RCP8.5 simulation simulates a higher near surface temperature practically everywhere. We can also see, that the difference becomes larger towards the poles - the effect commonly known as “arctic amplification”.\n"
   ]
  },
  {
   "cell_type": "markdown",
   "metadata": {},
   "source": [
    "=============================\n",
    "### Question 2"
   ]
  },
  {
   "cell_type": "markdown",
   "metadata": {},
   "source": [
    "What is the temporal evolution of global mean near surface air temperature from 2005 - 2100 under forcing scenarios RCP2.6 and RCP8.5?\n"
   ]
  },
  {
   "cell_type": "markdown",
   "metadata": {},
   "source": [
    "#### 1-a Import list of rcp26 files (Terminal)"
   ]
  },
  {
   "cell_type": "code",
   "execution_count": null,
   "metadata": {},
   "outputs": [],
   "source": [
    "cube.Cube.createcontainer(container='rcp26',base_time='2005-12-01', dim='lat|lon|time',dim_type='double|double|double',hierarchy='oph_base|oph_base|oph_time')\n",
    "cube.Cube.createcontainer(container='rcp26_mean',dim='lat|lon|time', base_time='2005-12-01', dim_type='double|double|double',hierarchy='oph_base|oph_base|oph_time')"
   ]
  },
  {
   "cell_type": "code",
   "execution_count": null,
   "metadata": {},
   "outputs": [],
   "source": [
    "cube.Cube.client.submit(\"oph_importnc src_path=[path=/mnt/lustre01/work/kd0956/CMIP5/data/cmip5/output1/MOHC/HadGEM2-ES/rcp26/mon/atmos/Amon/r1i1p1/v20111206/tas/;file=tas_Amon_HadGEM2-ES_rcp26*.nc];imp_dim=time;imp_concept_level=M;vocabulary=CF;hierarchy=oph_base|oph_base|oph_time;ncores=4;measure=tas;base_time=2005-12-01;container=rcp26;\") "
   ]
  },
  {
   "cell_type": "code",
   "execution_count": null,
   "metadata": {
    "scrolled": true
   },
   "outputs": [],
   "source": [
    "#cube.Cube.list(level=2)"
   ]
  },
  {
   "cell_type": "markdown",
   "metadata": {},
   "source": [
    "#### 1-b Calculate mean for each nc file "
   ]
  },
  {
   "cell_type": "code",
   "execution_count": null,
   "metadata": {
    "scrolled": true
   },
   "outputs": [],
   "source": [
    "cube.Cube.client.submit(\"oph_reduce2 cube=[container=rcp26;level=0;];container=rcp26_mean;operation=avg;dim=time;concept_level=y;ncores=4;\")"
   ]
  },
  {
   "cell_type": "markdown",
   "metadata": {},
   "source": [
    "#### 1-c Merge all cubes in one"
   ]
  },
  {
   "cell_type": "code",
   "execution_count": null,
   "metadata": {},
   "outputs": [],
   "source": [
    "# Calculate cube list from a container \n",
    "import json \n",
    "def listCubes(container):\n",
    "    list_cubes = []\n",
    "    # return json-based oph_list with level=2 of the container rcp26_mean\n",
    "    cube.Cube.list(container_filter=container, level=2, display=False)\n",
    "    json_response = json.loads(cube.Cube.client.last_response)\n",
    "    list_cubes_str = json_response['response'][0]['objcontent'][0]['rowvalues']\n",
    "    list_cubes.append(list_cubes_str[0][2])\n",
    "    \n",
    "    for i in range(len(list_cubes_str)):\n",
    "        list_cubes.append(list_cubes_str[i][2])\n",
    "    seperator = '|'\n",
    "    return seperator.join(list_cubes)"
   ]
  },
  {
   "cell_type": "code",
   "execution_count": null,
   "metadata": {},
   "outputs": [],
   "source": [
    "list_cubes = listCubes('rcp26_mean')\n",
    "merged_cube = cube.Cube.mergecubes(cubes=list_cubes,mode='a', hold_values='yes')"
   ]
  },
  {
   "cell_type": "code",
   "execution_count": null,
   "metadata": {},
   "outputs": [],
   "source": [
    "#merged_cube.info()"
   ]
  },
  {
   "cell_type": "code",
   "execution_count": null,
   "metadata": {},
   "outputs": [],
   "source": [
    "#merged_cube.exportnc2(output_name='merged_cube', output_path='/data-training')"
   ]
  },
  {
   "cell_type": "code",
   "execution_count": null,
   "metadata": {},
   "outputs": [],
   "source": [
    "firstyear = merged_cube.subset2(subset_filter=1, subset_dims='time')"
   ]
  },
  {
   "cell_type": "code",
   "execution_count": null,
   "metadata": {},
   "outputs": [],
   "source": [
    "data = firstyear.export_array(show_time='yes')\n",
    "import matplotlib.pyplot as plt\n",
    "from mpl_toolkits.basemap import Basemap, cm\n",
    "import numpy as np\n",
    "\n",
    "lat = data['dimension'][0]['values'][:]\n",
    "lon = data['dimension'][1]['values'][:]\n",
    "var = data['measure'][0]['values'][:]\n",
    "var = np.reshape(var, (len(lat), len(lon)))\n",
    "\n",
    "fig = plt.figure(figsize=(15, 15), dpi=100)\n",
    "ax  = fig.add_axes([0.1,0.1,0.8,0.8])\n",
    "\n",
    "map = Basemap(projection='cyl',llcrnrlat= -90,urcrnrlat= 90, llcrnrlon=0,urcrnrlon=360, resolution='c')\n",
    "\n",
    "map.drawcoastlines()\n",
    "map.drawparallels(np.arange( -90, 90,30),labels=[1,0,0,0])\n",
    "map.drawmeridians(np.arange(-180,180,30),labels=[0,0,0,1])\n",
    "\n",
    "x, y = map(*np.meshgrid(lon,lat))\n",
    "\n",
    "clevs = np.arange(0,371,10)\n",
    "\n",
    "cnplot = map.contourf(x,y,var,clevs,cmap=plt.cm.jet)\n",
    "cbar = map.colorbar(cnplot,location='right')\n",
    "\n",
    "plt.title('Merged cube rcp 2.6 (first year)')\n",
    "plt.show()"
   ]
  },
  {
   "cell_type": "markdown",
   "metadata": {},
   "source": [
    "#### 2-a Import list of rcp85 files (Terminal)"
   ]
  },
  {
   "cell_type": "code",
   "execution_count": null,
   "metadata": {},
   "outputs": [],
   "source": [
    "cube.Cube.createcontainer(container='rcp85',dim='lat|lon|time',dim_type='double|double|double',hierarchy='oph_base|oph_base|oph_time')\n",
    "cube.Cube.createcontainer(container='rcp85_mean',dim='lat|lon|time',dim_type='double|double|double',hierarchy='oph_base|oph_base|oph_time')"
   ]
  },
  {
   "cell_type": "code",
   "execution_count": null,
   "metadata": {},
   "outputs": [],
   "source": [
    "cube.Cube.client.submit(\"oph_importnc src_path=[path=/mnt/lustre01/work/kd0956/CMIP5/data/cmip5/output1/MOHC/HadGEM2-ES/rcp85/mon/atmos/Amon/r1i1p1/v20130430/tas/;file=tas_Amon_HadGEM2-ES_rcp85*.nc];imp_dim=time;imp_concept_level=M;vocabulary=CF;hierarchy=oph_base|oph_base|oph_time;ncores=4;measure=tas;container=rcp85;\") "
   ]
  },
  {
   "cell_type": "code",
   "execution_count": null,
   "metadata": {
    "scrolled": false
   },
   "outputs": [],
   "source": [
    "#cube.Cube.list(level=2)"
   ]
  },
  {
   "cell_type": "markdown",
   "metadata": {},
   "source": [
    "#### 2-b Calculate mean for each nc file "
   ]
  },
  {
   "cell_type": "code",
   "execution_count": null,
   "metadata": {
    "scrolled": true
   },
   "outputs": [],
   "source": [
    "cube.Cube.client.submit(\"oph_reduce2 cube=[container=rcp85;level=0;];container=rcp85_mean;operation=avg;dim=time;concept_level=y;ncores=4;\")"
   ]
  },
  {
   "cell_type": "markdown",
   "metadata": {},
   "source": [
    "#### 2-c Merge all cubes in one"
   ]
  },
  {
   "cell_type": "code",
   "execution_count": null,
   "metadata": {},
   "outputs": [],
   "source": [
    "# Calculate cube list from a container \n",
    "import json \n",
    "def listCubes(container):\n",
    "    list_cubes = []\n",
    "    # return json-based oph_list with level=2 of the container rcp26_mean\n",
    "    cube.Cube.list(container_filter=container, level=2, display=False)\n",
    "    json_response = json.loads(cube.Cube.client.last_response)\n",
    "    list_cubes_str = json_response['response'][0]['objcontent'][0]['rowvalues']\n",
    "    list_cubes.append(list_cubes_str[0][2])\n",
    "    \n",
    "    for i in range(len(list_cubes_str)):\n",
    "        list_cubes.append(list_cubes_str[i][2])\n",
    "    seperator = '|'\n",
    "    return seperator.join(list_cubes)"
   ]
  },
  {
   "cell_type": "code",
   "execution_count": null,
   "metadata": {},
   "outputs": [],
   "source": [
    "list_cubes = listCubes('rcp85_mean')\n",
    "merged_cube_rcp85 = cube.Cube.mergecubes(cubes=list_cubes,mode='a', hold_values='yes')"
   ]
  },
  {
   "cell_type": "code",
   "execution_count": null,
   "metadata": {},
   "outputs": [],
   "source": [
    "merged_cube_rcp85.info()"
   ]
  },
  {
   "cell_type": "code",
   "execution_count": null,
   "metadata": {},
   "outputs": [],
   "source": [
    "#merged_cube.exportnc2(output_name='merged_cube', output_path='/data-training')"
   ]
  },
  {
   "cell_type": "code",
   "execution_count": null,
   "metadata": {},
   "outputs": [],
   "source": [
    "firstyear = merged_cube.subset2(subset_filter=1, subset_dims='time')"
   ]
  },
  {
   "cell_type": "code",
   "execution_count": null,
   "metadata": {
    "scrolled": true
   },
   "outputs": [],
   "source": [
    "data = firstyear.export_array(show_time='yes')\n",
    "import matplotlib.pyplot as plt\n",
    "from mpl_toolkits.basemap import Basemap, cm\n",
    "import numpy as np\n",
    "\n",
    "lat = data['dimension'][0]['values'][:]\n",
    "lon = data['dimension'][1]['values'][:]\n",
    "var = data['measure'][0]['values'][:]\n",
    "var = np.reshape(var, (len(lat), len(lon)))\n",
    "\n",
    "fig = plt.figure(figsize=(15, 15), dpi=100)\n",
    "ax  = fig.add_axes([0.1,0.1,0.8,0.8])\n",
    "\n",
    "map = Basemap(projection='cyl',llcrnrlat= -90,urcrnrlat= 90, llcrnrlon=0,urcrnrlon=360, resolution='c')\n",
    "\n",
    "map.drawcoastlines()\n",
    "map.drawparallels(np.arange( -90, 90,30),labels=[1,0,0,0])\n",
    "map.drawmeridians(np.arange(-180,180,30),labels=[0,0,0,1])\n",
    "\n",
    "x, y = map(*np.meshgrid(lon,lat))\n",
    "\n",
    "clevs = np.arange(0,371,10)\n",
    "\n",
    "cnplot = map.contourf(x,y,var,clevs,cmap=plt.cm.jet)\n",
    "cbar = map.colorbar(cnplot,location='right')\n",
    "\n",
    "plt.title('Merged cube rcp 8.5 (first year)')\n",
    "plt.show()"
   ]
  },
  {
   "cell_type": "markdown",
   "metadata": {},
   "source": [
    "#### Clean your workspace "
   ]
  },
  {
   "cell_type": "code",
   "execution_count": null,
   "metadata": {},
   "outputs": [],
   "source": [
    "cube.Cube.client.submit(\"oph_delete cube=[container=rcp85]\")\n",
    "cube.Cube.deletecontainer(container='rcp85')"
   ]
  },
  {
   "cell_type": "markdown",
   "metadata": {},
   "source": [
    "#### Scientific description\n",
    "Similar to the first example of this use case, we “know” that the temperature simulated by the RCP8.5 scenario should and will always be higher throughout the climate projection. This is visible in the time series plots we produce in this exercise. The difference between the two scenario simulations, i.e. the difference between the two curves, will increase with time, i.e. the two simulations will be closer together in 2010 compared to 2100 (at least this is what we should be seeing). Further, the curves will not be straight lines but show “wiggles”. This is a sign of internal variability, i.e. some years are colder than others. This is also expected. In short, while the first part of use case 1 gives us only a snapshot of temperature changes on a global map, the second exercise gives us an impression of the transient response of the model to different forcing scenarios throughout time.\n"
   ]
  },
  {
   "cell_type": "code",
   "execution_count": null,
   "metadata": {},
   "outputs": [],
   "source": []
  }
 ],
 "metadata": {
  "kernelspec": {
   "display_name": "Python 3",
   "language": "python",
   "name": "python3"
  },
  "language_info": {
   "codemirror_mode": {
    "name": "ipython",
    "version": 3
   },
   "file_extension": ".py",
   "mimetype": "text/x-python",
   "name": "python",
   "nbconvert_exporter": "python",
   "pygments_lexer": "ipython3",
   "version": "3.7.1"
  }
 },
 "nbformat": 4,
 "nbformat_minor": 2
}
